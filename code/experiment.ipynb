{
 "cells": [
  {
   "cell_type": "code",
   "execution_count": null,
   "id": "035d6317",
   "metadata": {},
   "outputs": [],
   "source": [
    "import os\n",
    "import re"
   ]
  },
  {
   "cell_type": "markdown",
   "id": "8c083bb6",
   "metadata": {},
   "source": [
    "# Modifications"
   ]
  },
  {
   "cell_type": "markdown",
   "id": "866ab5f5",
   "metadata": {},
   "source": [
    "### Load data:"
   ]
  },
  {
   "cell_type": "code",
   "execution_count": null,
   "id": "b7f462bb",
   "metadata": {},
   "outputs": [],
   "source": [
    "# !wget https://data.vision.ee.ethz.ch/cvl/DIV2K/DIV2K_train_HR.zip\n",
    "# !wget https://data.vision.ee.ethz.ch/cvl/DIV2K/DIV2K_train_LR_bicubic_X2.zip"
   ]
  },
  {
   "cell_type": "code",
   "execution_count": null,
   "id": "b5829586",
   "metadata": {},
   "outputs": [],
   "source": [
    "# !wget https://cv.snu.ac.kr/research/EDSR/benchmark.tar\n",
    "# !wget https://cv.snu.ac.kr/research/EDSR/benchmark.tar"
   ]
  },
  {
   "cell_type": "markdown",
   "id": "a0f1429d",
   "metadata": {},
   "source": [
    "### Unzip downloads:"
   ]
  },
  {
   "cell_type": "code",
   "execution_count": null,
   "id": "4671f1b6",
   "metadata": {},
   "outputs": [],
   "source": [
    "# %mkdir div2k\n",
    "# !unzip -q DIV2K_train_HR.zip -d div2k\n",
    "# !unzip -q DIV2K_train_LR_bicubic_X2.zip -d div2k\n",
    "# !tar -xf benchmark.tar"
   ]
  },
  {
   "cell_type": "markdown",
   "id": "6bd717de",
   "metadata": {},
   "source": [
    "### Make symlinks (necessary for BasicSR):"
   ]
  },
  {
   "cell_type": "code",
   "execution_count": 1,
   "id": "d04ac22f",
   "metadata": {},
   "outputs": [],
   "source": [
    "# %mkdir basicsr/datasets\n",
    "# %mkdir basicsr/datasets/DIV2K\n",
    "# %mkdir basicsr/datasets/benchmark"
   ]
  },
  {
   "cell_type": "code",
   "execution_count": 2,
   "id": "d1206d6b",
   "metadata": {},
   "outputs": [],
   "source": [
    "# root = !pwd\n",
    "# root = root[0]\n",
    "\n",
    "# !ln -s $root/div2k/*  $root/basicsr/datasets/DIV2K\n",
    "# !ln -s  $root/benchmark/*  $root/basicsr/datasets/benchmark"
   ]
  },
  {
   "cell_type": "markdown",
   "id": "5c88fa38",
   "metadata": {},
   "source": [
    "### Make patches:"
   ]
  },
  {
   "cell_type": "code",
   "execution_count": null,
   "id": "227fa42f",
   "metadata": {},
   "outputs": [],
   "source": [
    "# %cd basicsr\n",
    "# !python3 ../scripts/data_preparation/extract_subimages.py\n",
    "# %cd .."
   ]
  },
  {
   "cell_type": "markdown",
   "id": "27b58ff7",
   "metadata": {},
   "source": [
    "### Change parameters:"
   ]
  },
  {
   "cell_type": "code",
   "execution_count": null,
   "id": "c6fd618f",
   "metadata": {},
   "outputs": [],
   "source": [
    "train_params = {\n",
    "    'num_gpu': 1,\n",
    "    'num_worker_pre_gpu': 4,\n",
    "    'batch_size_per_gpu': 16,\n",
    "    'dataset_enlarge_ratio': 1,\n",
    "    'total_iter': 10000,\n",
    "    'val_freq': '!!float 1e3',\n",
    "    'save_checkpoint_freq': '!!float 5e3',\n",
    "    'print_freq': 100,\n",
    "    'use_tb_logger': 'false'\n",
    "}"
   ]
  },
  {
   "cell_type": "code",
   "execution_count": null,
   "id": "9e923a9e",
   "metadata": {},
   "outputs": [],
   "source": [
    "test_params = {\n",
    "    'num_gpu': 1\n",
    "}"
   ]
  },
  {
   "cell_type": "code",
   "execution_count": null,
   "id": "2cffe4e0",
   "metadata": {},
   "outputs": [],
   "source": [
    "def get_model_name(filename):\n",
    "    parts = filename.split('.')[0].split('_')[1:]\n",
    "    new_parts = [parts[0]]\n",
    "    for part in parts[1:]:\n",
    "        if part.lower() == 'se':\n",
    "            new_parts.append('SE') \n",
    "            continue\n",
    "        new_parts.append(part.capitalize()) \n",
    "    return \"\".join(new_parts)"
   ]
  },
  {
   "cell_type": "code",
   "execution_count": null,
   "id": "ae4ff51e",
   "metadata": {
    "scrolled": true
   },
   "outputs": [],
   "source": [
    "root = os.path.abspath('.')\n",
    "train_path = 'options/train/'\n",
    "\n",
    "for file in os.listdir(train_path):\n",
    "    full_path = root + '/' + train_path + file\n",
    "    text = None\n",
    "    with open(full_path, 'r') as f:\n",
    "        text = f.read()\n",
    "        text = re.sub('dataroot_gt: [a-zA-Z0-9-/]+/datasets/', 'dataroot_gt: ' + root + '/basicsr/datasets/', text)\n",
    "        text = re.sub('dataroot_lq: [a-zA-Z0-9-/]+/datasets/', 'dataroot_lq: ' + root + '/basicsr/datasets/', text)\n",
    "        for param, value in train_params.items():\n",
    "            text = re.sub(param + ':' + '.*\\n', param + ': ' + str(value) + '\\n', text)\n",
    "    text = re.sub('name:' + '.*\\n', 'name: ' + file.split('.')[0] + '\\n', text, count=1)\n",
    "    text = re.sub('network_g:\\n  type: ' + '.*\\n', 'network_g:\\n  type: ' + get_model_name(file) + '\\n', text, count=1)\n",
    "    with open(full_path, 'w') as f:\n",
    "        f.write(text)"
   ]
  },
  {
   "cell_type": "code",
   "execution_count": null,
   "id": "b1a56f7f",
   "metadata": {},
   "outputs": [],
   "source": [
    "root = os.path.abspath('.')\n",
    "test_path = 'options/test/'\n",
    "\n",
    "for file in os.listdir(test_path):\n",
    "    full_path = root + '/' + test_path + file\n",
    "    text = None\n",
    "    with open(full_path, 'r') as f:\n",
    "        text = f.read()\n",
    "        text = re.sub('dataroot_gt: [a-zA-Z0-9-/]+/datasets/', 'dataroot_gt: ' + root + '/basicsr/datasets/', text)\n",
    "        text = re.sub('dataroot_lq: [a-zA-Z0-9-/]+/datasets/', 'dataroot_lq: ' + root + '/basicsr/datasets/', text)\n",
    "        for param, value in test_params.items():\n",
    "            text = re.sub(param + ':' + '.*\\n', param + ': ' + str(value) + '\\n', text)\n",
    "    text = re.sub('name:' + '.*\\n', 'name: ' + file.split('.')[0] + '\\n', text, count=1)\n",
    "    text = re.sub('network_g:\\n  type: ' + '.*\\n', 'network_g:\\n  type: ' + get_model_name(file) + '\\n', text, count=1)\n",
    "    text = re.sub(\n",
    "        'pretrain_network_g: .*\\n', \n",
    "        'pretrain_network_g: ' + root + '/experiments/' + \\\n",
    "            file.replace('test', 'train').split('.')[0] + '/models/net_g_latest.pth' + '\\n', \n",
    "        text\n",
    "    )\n",
    "    with open(full_path, 'w') as f:\n",
    "        f.write(text)"
   ]
  },
  {
   "cell_type": "markdown",
   "id": "4fb34046",
   "metadata": {},
   "source": [
    "## Experiments:"
   ]
  },
  {
   "cell_type": "code",
   "execution_count": null,
   "id": "7aa29552",
   "metadata": {},
   "outputs": [],
   "source": [
    "%cd basicsr/"
   ]
  },
  {
   "cell_type": "markdown",
   "id": "cecf28a1",
   "metadata": {},
   "source": [
    "### EDSR"
   ]
  },
  {
   "cell_type": "code",
   "execution_count": null,
   "id": "8f3e8bc2",
   "metadata": {},
   "outputs": [],
   "source": [
    "# !python3 train.py -opt ../options/train/train_EDSR.yaml"
   ]
  },
  {
   "cell_type": "code",
   "execution_count": null,
   "id": "08c7027a",
   "metadata": {},
   "outputs": [],
   "source": [
    "# !python3 test.py -opt ../options/test/test_EDSR.yaml"
   ]
  },
  {
   "cell_type": "markdown",
   "id": "0398ee81",
   "metadata": {},
   "source": [
    "### Binary EDSR"
   ]
  },
  {
   "cell_type": "code",
   "execution_count": null,
   "id": "50689781",
   "metadata": {
    "scrolled": false
   },
   "outputs": [],
   "source": [
    "# !python3 train.py -opt ../options/train/train_BinEDSR.yaml"
   ]
  },
  {
   "cell_type": "code",
   "execution_count": null,
   "id": "fc451095",
   "metadata": {},
   "outputs": [],
   "source": [
    "# !python3 test.py -opt ../options/test/test_BinEDSR.yaml"
   ]
  },
  {
   "cell_type": "markdown",
   "id": "035aa507",
   "metadata": {},
   "source": [
    "### SE-attention on binary branch"
   ]
  },
  {
   "cell_type": "code",
   "execution_count": null,
   "id": "2876a4c8",
   "metadata": {},
   "outputs": [],
   "source": [
    "# !python3 train.py -opt ../options/train/train_BinEDSR_none_se.yaml"
   ]
  },
  {
   "cell_type": "code",
   "execution_count": null,
   "id": "e92e2364",
   "metadata": {},
   "outputs": [],
   "source": [
    "# !python3 test.py -opt ../options/test/test_BinEDSR_none_se.yaml"
   ]
  },
  {
   "cell_type": "markdown",
   "id": "17652c70",
   "metadata": {},
   "source": [
    "### Spatial attention on binary branch"
   ]
  },
  {
   "cell_type": "code",
   "execution_count": null,
   "id": "240e005e",
   "metadata": {},
   "outputs": [],
   "source": [
    "# !python3 train.py -opt ../options/train/train_BinEDSR_none_spat.yaml"
   ]
  },
  {
   "cell_type": "code",
   "execution_count": null,
   "id": "5fc2fd49",
   "metadata": {},
   "outputs": [],
   "source": [
    "# !python3 test.py -opt ../options/test/test_BinEDSR_none_spat.yaml"
   ]
  },
  {
   "cell_type": "markdown",
   "id": "30fa3dae",
   "metadata": {},
   "source": [
    "### Pixel attention on binary branch"
   ]
  },
  {
   "cell_type": "code",
   "execution_count": null,
   "id": "ac77142c",
   "metadata": {},
   "outputs": [],
   "source": [
    "# !python3 train.py -opt ../options/train/train_BinEDSR_none_pixel.yaml"
   ]
  },
  {
   "cell_type": "code",
   "execution_count": null,
   "id": "0c185a70",
   "metadata": {},
   "outputs": [],
   "source": [
    "# !python3 test.py -opt ../options/test/test_BinEDSR_none_pixel.yaml"
   ]
  },
  {
   "cell_type": "markdown",
   "id": "513655f9",
   "metadata": {},
   "source": [
    "### SE-attention on residual branch"
   ]
  },
  {
   "cell_type": "code",
   "execution_count": null,
   "id": "afd53549",
   "metadata": {},
   "outputs": [],
   "source": [
    "# !python3 train.py -opt ../options/train/train_BinEDSR_se_none.yaml"
   ]
  },
  {
   "cell_type": "code",
   "execution_count": null,
   "id": "7243ccd7",
   "metadata": {},
   "outputs": [],
   "source": [
    "# !python3 test.py -opt ../options/test/test_BinEDSR_se_none.yaml"
   ]
  },
  {
   "cell_type": "markdown",
   "id": "0fdfc57e",
   "metadata": {},
   "source": [
    "### Spatial attention on residual branch"
   ]
  },
  {
   "cell_type": "code",
   "execution_count": null,
   "id": "9bd14a60",
   "metadata": {},
   "outputs": [],
   "source": [
    "# !python3 train.py -opt ../options/train/train_BinEDSR_spat_none.yaml"
   ]
  },
  {
   "cell_type": "code",
   "execution_count": null,
   "id": "c80706cc",
   "metadata": {},
   "outputs": [],
   "source": [
    "# !python3 test.py -opt ../options/test/test_BinEDSR_spat_none.yaml"
   ]
  },
  {
   "cell_type": "markdown",
   "id": "ceb9ea33",
   "metadata": {},
   "source": [
    "### Pixel attention on residual branch"
   ]
  },
  {
   "cell_type": "code",
   "execution_count": null,
   "id": "ab7b7abc",
   "metadata": {},
   "outputs": [],
   "source": [
    "# !python3 train.py -opt ../options/train/train_BinEDSR_pixel_none.yaml"
   ]
  },
  {
   "cell_type": "code",
   "execution_count": null,
   "id": "9fe3d3a2",
   "metadata": {},
   "outputs": [],
   "source": [
    "# !python3 test.py -opt ../options/test/test_BinEDSR_pixel_none.yaml"
   ]
  },
  {
   "cell_type": "markdown",
   "id": "78baa114",
   "metadata": {},
   "source": [
    "### SE-attention on both branches"
   ]
  },
  {
   "cell_type": "code",
   "execution_count": null,
   "id": "201d7ec2",
   "metadata": {},
   "outputs": [],
   "source": [
    "# !python3 train.py -opt ../options/train/train_BinEDSR_se_se.yaml"
   ]
  },
  {
   "cell_type": "code",
   "execution_count": null,
   "id": "5ce86ae1",
   "metadata": {},
   "outputs": [],
   "source": [
    "# !python3 test.py -opt ../options/test/test_BinEDSR_se_se.yaml"
   ]
  },
  {
   "cell_type": "markdown",
   "id": "7c610cc2",
   "metadata": {},
   "source": [
    "### SE-attention on residual branch, spatial attention on binary branch"
   ]
  },
  {
   "cell_type": "code",
   "execution_count": null,
   "id": "0117728c",
   "metadata": {},
   "outputs": [],
   "source": [
    "# !python3 train.py -opt ../options/train/train_BinEDSR_se_spat.yaml"
   ]
  },
  {
   "cell_type": "code",
   "execution_count": null,
   "id": "7088b8a0",
   "metadata": {},
   "outputs": [],
   "source": [
    "# !python3 test.py -opt ../options/test/test_BinEDSR_se_spat.yaml"
   ]
  },
  {
   "cell_type": "markdown",
   "id": "23a529b2",
   "metadata": {},
   "source": [
    "### SE-attention on residual branch, pixel attention on binary branch"
   ]
  },
  {
   "cell_type": "code",
   "execution_count": null,
   "id": "fbb6b2f2",
   "metadata": {},
   "outputs": [],
   "source": [
    "# !python3 train.py -opt ../options/train/train_BinEDSR_se_pixel.yaml"
   ]
  },
  {
   "cell_type": "code",
   "execution_count": null,
   "id": "5d15d8c3",
   "metadata": {},
   "outputs": [],
   "source": [
    "# !python3 test.py -opt ../options/test/test_BinEDSR_se_pixel.yaml"
   ]
  }
 ],
 "metadata": {
  "kernelspec": {
   "display_name": "Python 3 (ipykernel)",
   "language": "python",
   "name": "python3"
  },
  "language_info": {
   "codemirror_mode": {
    "name": "ipython",
    "version": 3
   },
   "file_extension": ".py",
   "mimetype": "text/x-python",
   "name": "python",
   "nbconvert_exporter": "python",
   "pygments_lexer": "ipython3",
   "version": "3.8.10"
  }
 },
 "nbformat": 4,
 "nbformat_minor": 5
}
