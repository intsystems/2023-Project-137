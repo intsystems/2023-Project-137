{
 "cells": [
  {
   "cell_type": "code",
   "execution_count": 1,
   "id": "035d6317",
   "metadata": {},
   "outputs": [],
   "source": [
    "import os\n",
    "import re"
   ]
  },
  {
   "cell_type": "markdown",
   "id": "8c083bb6",
   "metadata": {},
   "source": [
    "# Modifications"
   ]
  },
  {
   "cell_type": "markdown",
   "id": "866ab5f5",
   "metadata": {},
   "source": [
    "### Load data:"
   ]
  },
  {
   "cell_type": "code",
   "execution_count": 2,
   "id": "b7f462bb",
   "metadata": {},
   "outputs": [],
   "source": [
    "# !wget https://cv.snu.ac.kr/research/EDSR/benchmark.tar\n",
    "# !wget https://data.vision.ee.ethz.ch/cvl/DIV2K/DIV2K_train_HR.zip\n",
    "# !wget https://data.vision.ee.ethz.ch/cvl/DIV2K/DIV2K_train_LR_bicubic_X2.zip"
   ]
  },
  {
   "cell_type": "markdown",
   "id": "a0f1429d",
   "metadata": {},
   "source": [
    "### Unzip downloads:"
   ]
  },
  {
   "cell_type": "code",
   "execution_count": 3,
   "id": "4671f1b6",
   "metadata": {},
   "outputs": [],
   "source": [
    "# %mkdir div2k\n",
    "# !unzip -q DIV2K_train_HR.zip -d div2k\n",
    "# !unzip -q DIV2K_train_LR_bicubic_X2.zip -d div2k\n",
    "# !tar -xf benchmark.tar"
   ]
  },
  {
   "cell_type": "markdown",
   "id": "6bd717de",
   "metadata": {},
   "source": [
    "### Make symlinks (necessary for BasicSR):"
   ]
  },
  {
   "cell_type": "code",
   "execution_count": 4,
   "id": "59595835",
   "metadata": {},
   "outputs": [],
   "source": [
    "# root = !pwd\n",
    "# root = root[0]\n",
    "\n",
    "# %mkdir basicsr/datasets/DIV2K\n",
    "# !ln -s $root/div2k/*  $root/basicsr/datasets/DIV2K\n",
    "# !ln -s  $root/benchmark  $root/basicsr/datasets"
   ]
  },
  {
   "cell_type": "markdown",
   "id": "5c88fa38",
   "metadata": {},
   "source": [
    "### Make patches:"
   ]
  },
  {
   "cell_type": "code",
   "execution_count": 5,
   "id": "227fa42f",
   "metadata": {},
   "outputs": [],
   "source": [
    "# %cd basicsr\n",
    "# !python3 ../scripts/data_preparation/extract_subimages.py\n",
    "# %cd .."
   ]
  },
  {
   "cell_type": "markdown",
   "id": "27b58ff7",
   "metadata": {},
   "source": [
    "### Change parameters:"
   ]
  },
  {
   "cell_type": "code",
   "execution_count": 6,
   "id": "c6fd618f",
   "metadata": {},
   "outputs": [],
   "source": [
    "train_params = {\n",
    "    'num_gpu': 0,\n",
    "    'num_worker_pre_gpu': 4,\n",
    "    'batch_size_per_gpu': 16,\n",
    "    'dataset_enlarge_ratio': 1,\n",
    "    'total_iter': 10,\n",
    "    'val_freq': '!!float 1e1',\n",
    "    'save_checkpoint_freq': '!!float 1e1',\n",
    "    'print_freq': 10,\n",
    "    'use_tb_logger': 'false'\n",
    "}"
   ]
  },
  {
   "cell_type": "code",
   "execution_count": 7,
   "id": "ac6a9a61",
   "metadata": {},
   "outputs": [],
   "source": [
    "test_params = {\n",
    "    'num_gpu': 0\n",
    "}"
   ]
  },
  {
   "cell_type": "code",
   "execution_count": 8,
   "id": "31b87089",
   "metadata": {},
   "outputs": [],
   "source": [
    "def get_model_name(filename):\n",
    "    parts = filename.split('.')[0].split('_')[1:]\n",
    "    new_parts = [parts[0]]\n",
    "    for part in parts[1:]:\n",
    "        if part.lower() == 'se':\n",
    "            new_parts.append('SE') \n",
    "            continue\n",
    "        new_parts.append(part.capitalize()) \n",
    "    return \"\".join(new_parts)"
   ]
  },
  {
   "cell_type": "code",
   "execution_count": 9,
   "id": "ae4ff51e",
   "metadata": {
    "scrolled": true
   },
   "outputs": [],
   "source": [
    "root = os.path.abspath('.')\n",
    "train_path = 'options/train/'\n",
    "\n",
    "for file in os.listdir(train_path):\n",
    "    full_path = root + '/' + train_path + file\n",
    "    text = None\n",
    "    with open(full_path, 'r') as f:\n",
    "        text = f.read()\n",
    "        text = re.sub('dataroot_gt: [a-zA-Z0-9-/]+/datasets/', 'dataroot_gt: ' + root + '/basicsr/datasets/', text)\n",
    "        text = re.sub('dataroot_lq: [a-zA-Z0-9-/]+/datasets/', 'dataroot_lq: ' + root + '/basicsr/datasets/', text)\n",
    "        for param, value in train_params.items():\n",
    "            text = re.sub(param + ':' + '.*\\n', param + ': ' + str(value) + '\\n', text)\n",
    "    text = re.sub('name:' + '.*\\n', 'name: ' + file.split('.')[0] + '\\n', text, count=1)\n",
    "    text = re.sub('network_g:\\n  type: ' + '.*\\n', 'network_g:\\n  type: ' + get_model_name(file) + '\\n', text, count=1)\n",
    "    with open(full_path, 'w') as f:\n",
    "        f.write(text)"
   ]
  },
  {
   "cell_type": "code",
   "execution_count": 10,
   "id": "70bef259",
   "metadata": {},
   "outputs": [],
   "source": [
    "root = os.path.abspath('.')\n",
    "test_path = 'options/test/'\n",
    "\n",
    "for file in os.listdir(test_path):\n",
    "    full_path = root + '/' + test_path + file\n",
    "    text = None\n",
    "    with open(full_path, 'r') as f:\n",
    "        text = f.read()\n",
    "        text = re.sub('dataroot_gt: [a-zA-Z0-9-/]+/datasets/', 'dataroot_gt: ' + root + '/basicsr/datasets/', text)\n",
    "        text = re.sub('dataroot_lq: [a-zA-Z0-9-/]+/datasets/', 'dataroot_lq: ' + root + '/basicsr/datasets/', text)\n",
    "        for param, value in test_params.items():\n",
    "            text = re.sub(param + ':' + '.*\\n', param + ': ' + str(value) + '\\n', text)\n",
    "    text = re.sub('name:' + '.*\\n', 'name: ' + file.split('.')[0] + '\\n', text, count=1)\n",
    "    text = re.sub('network_g:\\n  type: ' + '.*\\n', 'network_g:\\n  type: ' + get_model_name(file) + '\\n', text, count=1)\n",
    "    text = re.sub(\n",
    "        'pretrain_network_g: .*\\n', \n",
    "        'pretrain_network_g: ' + root + '/experiments/' + \\\n",
    "            file.replace('test', 'train').split('.')[0] + '/models/net_g_latest.pth' + '\\n', \n",
    "        text\n",
    "    )\n",
    "    with open(full_path, 'w') as f:\n",
    "        f.write(text)"
   ]
  },
  {
   "cell_type": "markdown",
   "id": "4fb34046",
   "metadata": {},
   "source": [
    "## Experiments:"
   ]
  },
  {
   "cell_type": "code",
   "execution_count": 12,
   "id": "8926e7f0",
   "metadata": {},
   "outputs": [
    {
     "name": "stdout",
     "output_type": "stream",
     "text": [
      "/home/kovcharenko51/2023-Project-137/code/basicsr\n"
     ]
    }
   ],
   "source": [
    "%cd basicsr/"
   ]
  },
  {
   "cell_type": "markdown",
   "id": "cecf28a1",
   "metadata": {},
   "source": [
    "### EDSR"
   ]
  },
  {
   "cell_type": "code",
   "execution_count": null,
   "id": "8f3e8bc2",
   "metadata": {},
   "outputs": [],
   "source": [
    "!python3 train.py -opt ../options/train/train_EDSR.yaml"
   ]
  },
  {
   "cell_type": "code",
   "execution_count": null,
   "id": "08c7027a",
   "metadata": {},
   "outputs": [],
   "source": [
    "!python3 test.py -opt ../options/test/test_EDSR.yaml"
   ]
  },
  {
   "cell_type": "markdown",
   "id": "0398ee81",
   "metadata": {},
   "source": [
    "### Binary EDSR"
   ]
  },
  {
   "cell_type": "code",
   "execution_count": 13,
   "id": "50689781",
   "metadata": {
    "scrolled": false
   },
   "outputs": [
    {
     "name": "stdout",
     "output_type": "stream",
     "text": [
      "Disable distributed.\n",
      "2023-03-31 15:06:39,810 INFO: \n",
      "                ____                _       _____  ____\n",
      "               / __ ) ____ _ _____ (_)_____/ ___/ / __ \\\n",
      "              / __  |/ __ `// ___// // ___/\\__ \\ / /_/ /\n",
      "             / /_/ // /_/ /(__  )/ // /__ ___/ // _, _/\n",
      "            /_____/ \\__,_//____//_/ \\___//____//_/ |_|\n",
      "     ______                   __   __                 __      __\n",
      "    / ____/____   ____   ____/ /  / /   __  __ _____ / /__   / /\n",
      "   / / __ / __ \\ / __ \\ / __  /  / /   / / / // ___// //_/  / /\n",
      "  / /_/ // /_/ // /_/ // /_/ /  / /___/ /_/ // /__ / /<    /_/\n",
      "  \\____/ \\____/ \\____/ \\____/  /_____/\\____/ \\___//_/|_|  (_)\n",
      "    \n",
      "Version Information: \n",
      "\tBasicSR: 1.4.2\n",
      "\tPyTorch: 1.12.1+cu116\n",
      "\tTorchVision: 0.13.1+cu116\n",
      "2023-03-31 15:06:39,810 INFO: \n",
      "  name: train_BinEDSR\n",
      "  model_type: SRModel\n",
      "  scale: 2\n",
      "  num_gpu: 0\n",
      "  manual_seed: 0\n",
      "  datasets:[\n",
      "    train:[\n",
      "      name: DIV2K\n",
      "      type: PairedImageDataset\n",
      "      dataroot_gt: /home/kovcharenko51/2023-Project-137/code/basicsr/datasets/DIV2K/DIV2K_train_HR_sub\n",
      "      dataroot_lq: /home/kovcharenko51/2023-Project-137/code/basicsr/datasets/DIV2K/DIV2K_train_LR_bicubic/X2_sub\n",
      "      filename_tmpl: {}\n",
      "      io_backend:[\n",
      "        type: disk\n",
      "      ]\n",
      "      gt_size: 128\n",
      "      use_hflip: True\n",
      "      use_rot: True\n",
      "      num_worker_per_gpu: 4\n",
      "      batch_size_per_gpu: 16\n",
      "      dataset_enlarge_ratio: 1\n",
      "      prefetch_mode: None\n",
      "      phase: train\n",
      "      scale: 2\n",
      "    ]\n",
      "    val:[\n",
      "      name: Set5\n",
      "      type: PairedImageDataset\n",
      "      dataroot_gt: /home/kovcharenko51/2023-Project-137/code/basicsr/datasets/benchmark/Set5/HR\n",
      "      dataroot_lq: /home/kovcharenko51/2023-Project-137/code/basicsr/datasets/benchmark/Set5/LR_bicubic/X2\n",
      "      filename_tmpl: {}x2\n",
      "      io_backend:[\n",
      "        type: disk\n",
      "      ]\n",
      "      phase: val\n",
      "      scale: 2\n",
      "    ]\n",
      "    val_2:[\n",
      "      name: Set14\n",
      "      type: PairedImageDataset\n",
      "      dataroot_gt: /home/kovcharenko51/2023-Project-137/code/basicsr/datasets/benchmark/Set14/HR\n",
      "      dataroot_lq: /home/kovcharenko51/2023-Project-137/code/basicsr/datasets/benchmark/Set14/LR_bicubic/X2\n",
      "      filename_tmpl: {}x2\n",
      "      io_backend:[\n",
      "        type: disk\n",
      "      ]\n",
      "      phase: val\n",
      "      scale: 2\n",
      "    ]\n",
      "  ]\n",
      "  network_g:[\n",
      "    type: BinEDSR\n",
      "    num_in_ch: 3\n",
      "    num_out_ch: 3\n",
      "    num_feat: 64\n",
      "    num_block: 16\n",
      "    upscale: 2\n",
      "    img_range: 130.0\n",
      "  ]\n",
      "  path:[\n",
      "    pretrain_network_g: None\n",
      "    strict_load_g: False\n",
      "    resume_state: None\n",
      "    experiments_root: /home/kovcharenko51/2023-Project-137/code/experiments/train_BinEDSR\n",
      "    models: /home/kovcharenko51/2023-Project-137/code/experiments/train_BinEDSR/models\n",
      "    training_states: /home/kovcharenko51/2023-Project-137/code/experiments/train_BinEDSR/training_states\n",
      "    log: /home/kovcharenko51/2023-Project-137/code/experiments/train_BinEDSR\n",
      "    visualization: /home/kovcharenko51/2023-Project-137/code/experiments/train_BinEDSR/visualization\n",
      "  ]\n",
      "  train:[\n",
      "    ema_decay: 0\n",
      "    optim_g:[\n",
      "      type: Adam\n",
      "      lr: 0.0001\n",
      "      weight_decay: 0\n",
      "      betas: [0.9, 0.99]\n",
      "    ]\n",
      "    scheduler:[\n",
      "      type: MultiStepLR\n",
      "      milestones: [200000]\n",
      "      gamma: 0.5\n",
      "    ]\n",
      "    total_iter: 10\n",
      "    warmup_iter: -1\n",
      "    pixel_opt:[\n",
      "      type: L1Loss\n",
      "      loss_weight: 1.0\n",
      "      reduction: mean\n",
      "    ]\n",
      "  ]\n",
      "  val:[\n",
      "    val_freq: 10.0\n",
      "    save_img: False\n",
      "    metrics:[\n",
      "      psnr:[\n",
      "        type: calculate_psnr\n",
      "        crop_border: 2\n",
      "        test_y_channel: True\n",
      "      ]\n",
      "      ssim:[\n",
      "        type: calculate_ssim\n",
      "        crop_border: 2\n",
      "        test_y_channel: True\n",
      "      ]\n",
      "    ]\n",
      "  ]\n",
      "  logger:[\n",
      "    print_freq: 10\n",
      "    save_checkpoint_freq: 10.0\n",
      "    use_tb_logger: False\n",
      "    wandb:[\n",
      "      project: None\n",
      "      resume_id: None\n",
      "    ]\n",
      "  ]\n",
      "  dist_params:[\n",
      "    backend: nccl\n",
      "    port: 29500\n",
      "  ]\n",
      "  dist: False\n",
      "  rank: 0\n",
      "  world_size: 1\n",
      "  auto_resume: False\n",
      "  is_train: True\n",
      "  root_path: /home/kovcharenko51/2023-Project-137/code\n",
      "\n",
      "2023-03-31 15:06:39,822 INFO: Dataset [PairedImageDataset] - DIV2K is built.\n",
      "2023-03-31 15:06:39,822 INFO: Training statistics:\n",
      "\tNumber of train images: 440\n",
      "\tDataset enlarge ratio: 1\n",
      "\tBatch size per gpu: 16\n",
      "\tWorld size (gpu number): 1\n",
      "\tRequire iter number per epoch: 28\n",
      "\tTotal epochs: 1; iters: 10.\n",
      "2023-03-31 15:06:39,822 INFO: Dataset [PairedImageDataset] - Set5 is built.\n",
      "2023-03-31 15:06:39,822 INFO: Number of val images/folders in Set5: 5\n",
      "2023-03-31 15:06:39,823 INFO: Dataset [PairedImageDataset] - Set14 is built.\n",
      "2023-03-31 15:06:39,823 INFO: Number of val images/folders in Set14: 14\n",
      "2023-03-31 15:06:39,878 INFO: Network [BinEDSR] is created.\n",
      "2023-03-31 15:06:39,883 INFO: Network: BinEDSR, with parameters: 1,376,837\n",
      "2023-03-31 15:06:39,883 INFO: BinEDSR(\n",
      "  (conv_first): Conv2d(3, 64, kernel_size=(3, 3), stride=(1, 1), padding=(1, 1))\n",
      "  (body): Sequential(\n",
      "    (0): BinaryBlock(\n",
      "      (body): Sequential(\n",
      "        (0): BinaryConv2d(\n",
      "          (move0): LearnableBias()\n",
      "          (binary_activation): BinaryActivation()\n",
      "          (binary_conv): HardBinaryConv(64, 64, kernel_size=(3, 3), stride=(1, 1), padding=(1, 1), bias=False)\n",
      "          (relu): RPReLU(\n",
      "            (pr_bias0): LearnableBias()\n",
      "            (pr_prelu): PReLU(num_parameters=64)\n",
      "            (pr_bias1): LearnableBias()\n",
      "          )\n",
      "        )\n",
      "        (1): BinaryConv2d(\n",
      "          (move0): LearnableBias()\n",
      "          (binary_activation): BinaryActivation()\n",
      "          (binary_conv): HardBinaryConv(64, 64, kernel_size=(3, 3), stride=(1, 1), padding=(1, 1), bias=False)\n",
      "          (relu): RPReLU(\n",
      "            (pr_bias0): LearnableBias()\n",
      "            (pr_prelu): PReLU(num_parameters=64)\n",
      "            (pr_bias1): LearnableBias()\n",
      "          )\n",
      "        )\n",
      "      )\n",
      "    )\n",
      "    (1): BinaryBlock(\n",
      "      (body): Sequential(\n",
      "        (0): BinaryConv2d(\n",
      "          (move0): LearnableBias()\n",
      "          (binary_activation): BinaryActivation()\n",
      "          (binary_conv): HardBinaryConv(64, 64, kernel_size=(3, 3), stride=(1, 1), padding=(1, 1), bias=False)\n",
      "          (relu): RPReLU(\n",
      "            (pr_bias0): LearnableBias()\n",
      "            (pr_prelu): PReLU(num_parameters=64)\n",
      "            (pr_bias1): LearnableBias()\n",
      "          )\n",
      "        )\n",
      "        (1): BinaryConv2d(\n",
      "          (move0): LearnableBias()\n",
      "          (binary_activation): BinaryActivation()\n",
      "          (binary_conv): HardBinaryConv(64, 64, kernel_size=(3, 3), stride=(1, 1), padding=(1, 1), bias=False)\n",
      "          (relu): RPReLU(\n",
      "            (pr_bias0): LearnableBias()\n",
      "            (pr_prelu): PReLU(num_parameters=64)\n",
      "            (pr_bias1): LearnableBias()\n",
      "          )\n",
      "        )\n",
      "      )\n",
      "    )\n",
      "    (2): BinaryBlock(\n",
      "      (body): Sequential(\n",
      "        (0): BinaryConv2d(\n",
      "          (move0): LearnableBias()\n",
      "          (binary_activation): BinaryActivation()\n",
      "          (binary_conv): HardBinaryConv(64, 64, kernel_size=(3, 3), stride=(1, 1), padding=(1, 1), bias=False)\n",
      "          (relu): RPReLU(\n",
      "            (pr_bias0): LearnableBias()\n",
      "            (pr_prelu): PReLU(num_parameters=64)\n",
      "            (pr_bias1): LearnableBias()\n",
      "          )\n",
      "        )\n",
      "        (1): BinaryConv2d(\n",
      "          (move0): LearnableBias()\n",
      "          (binary_activation): BinaryActivation()\n",
      "          (binary_conv): HardBinaryConv(64, 64, kernel_size=(3, 3), stride=(1, 1), padding=(1, 1), bias=False)\n",
      "          (relu): RPReLU(\n",
      "            (pr_bias0): LearnableBias()\n",
      "            (pr_prelu): PReLU(num_parameters=64)\n",
      "            (pr_bias1): LearnableBias()\n",
      "          )\n",
      "        )\n",
      "      )\n",
      "    )\n",
      "    (3): BinaryBlock(\n",
      "      (body): Sequential(\n",
      "        (0): BinaryConv2d(\n",
      "          (move0): LearnableBias()\n",
      "          (binary_activation): BinaryActivation()\n",
      "          (binary_conv): HardBinaryConv(64, 64, kernel_size=(3, 3), stride=(1, 1), padding=(1, 1), bias=False)\n",
      "          (relu): RPReLU(\n",
      "            (pr_bias0): LearnableBias()\n",
      "            (pr_prelu): PReLU(num_parameters=64)\n",
      "            (pr_bias1): LearnableBias()\n",
      "          )\n",
      "        )\n",
      "        (1): BinaryConv2d(\n",
      "          (move0): LearnableBias()\n",
      "          (binary_activation): BinaryActivation()\n",
      "          (binary_conv): HardBinaryConv(64, 64, kernel_size=(3, 3), stride=(1, 1), padding=(1, 1), bias=False)\n",
      "          (relu): RPReLU(\n",
      "            (pr_bias0): LearnableBias()\n",
      "            (pr_prelu): PReLU(num_parameters=64)\n",
      "            (pr_bias1): LearnableBias()\n",
      "          )\n",
      "        )\n",
      "      )\n",
      "    )\n",
      "    (4): BinaryBlock(\n",
      "      (body): Sequential(\n",
      "        (0): BinaryConv2d(\n",
      "          (move0): LearnableBias()\n",
      "          (binary_activation): BinaryActivation()\n",
      "          (binary_conv): HardBinaryConv(64, 64, kernel_size=(3, 3), stride=(1, 1), padding=(1, 1), bias=False)\n",
      "          (relu): RPReLU(\n",
      "            (pr_bias0): LearnableBias()\n",
      "            (pr_prelu): PReLU(num_parameters=64)\n",
      "            (pr_bias1): LearnableBias()\n",
      "          )\n",
      "        )\n",
      "        (1): BinaryConv2d(\n",
      "          (move0): LearnableBias()\n",
      "          (binary_activation): BinaryActivation()\n",
      "          (binary_conv): HardBinaryConv(64, 64, kernel_size=(3, 3), stride=(1, 1), padding=(1, 1), bias=False)\n",
      "          (relu): RPReLU(\n",
      "            (pr_bias0): LearnableBias()\n",
      "            (pr_prelu): PReLU(num_parameters=64)\n",
      "            (pr_bias1): LearnableBias()\n",
      "          )\n",
      "        )\n",
      "      )\n",
      "    )\n",
      "    (5): BinaryBlock(\n",
      "      (body): Sequential(\n",
      "        (0): BinaryConv2d(\n",
      "          (move0): LearnableBias()\n",
      "          (binary_activation): BinaryActivation()\n",
      "          (binary_conv): HardBinaryConv(64, 64, kernel_size=(3, 3), stride=(1, 1), padding=(1, 1), bias=False)\n",
      "          (relu): RPReLU(\n",
      "            (pr_bias0): LearnableBias()\n",
      "            (pr_prelu): PReLU(num_parameters=64)\n",
      "            (pr_bias1): LearnableBias()\n",
      "          )\n",
      "        )\n",
      "        (1): BinaryConv2d(\n",
      "          (move0): LearnableBias()\n",
      "          (binary_activation): BinaryActivation()\n",
      "          (binary_conv): HardBinaryConv(64, 64, kernel_size=(3, 3), stride=(1, 1), padding=(1, 1), bias=False)\n",
      "          (relu): RPReLU(\n",
      "            (pr_bias0): LearnableBias()\n",
      "            (pr_prelu): PReLU(num_parameters=64)\n",
      "            (pr_bias1): LearnableBias()\n",
      "          )\n",
      "        )\n",
      "      )\n",
      "    )\n",
      "    (6): BinaryBlock(\n",
      "      (body): Sequential(\n",
      "        (0): BinaryConv2d(\n",
      "          (move0): LearnableBias()\n",
      "          (binary_activation): BinaryActivation()\n",
      "          (binary_conv): HardBinaryConv(64, 64, kernel_size=(3, 3), stride=(1, 1), padding=(1, 1), bias=False)\n",
      "          (relu): RPReLU(\n",
      "            (pr_bias0): LearnableBias()\n",
      "            (pr_prelu): PReLU(num_parameters=64)\n",
      "            (pr_bias1): LearnableBias()\n",
      "          )\n",
      "        )\n",
      "        (1): BinaryConv2d(\n",
      "          (move0): LearnableBias()\n",
      "          (binary_activation): BinaryActivation()\n",
      "          (binary_conv): HardBinaryConv(64, 64, kernel_size=(3, 3), stride=(1, 1), padding=(1, 1), bias=False)\n",
      "          (relu): RPReLU(\n",
      "            (pr_bias0): LearnableBias()\n",
      "            (pr_prelu): PReLU(num_parameters=64)\n",
      "            (pr_bias1): LearnableBias()\n",
      "          )\n",
      "        )\n",
      "      )\n",
      "    )\n",
      "    (7): BinaryBlock(\n",
      "      (body): Sequential(\n",
      "        (0): BinaryConv2d(\n",
      "          (move0): LearnableBias()\n",
      "          (binary_activation): BinaryActivation()\n",
      "          (binary_conv): HardBinaryConv(64, 64, kernel_size=(3, 3), stride=(1, 1), padding=(1, 1), bias=False)\n",
      "          (relu): RPReLU(\n",
      "            (pr_bias0): LearnableBias()\n",
      "            (pr_prelu): PReLU(num_parameters=64)\n",
      "            (pr_bias1): LearnableBias()\n",
      "          )\n",
      "        )\n",
      "        (1): BinaryConv2d(\n",
      "          (move0): LearnableBias()\n",
      "          (binary_activation): BinaryActivation()\n",
      "          (binary_conv): HardBinaryConv(64, 64, kernel_size=(3, 3), stride=(1, 1), padding=(1, 1), bias=False)\n",
      "          (relu): RPReLU(\n",
      "            (pr_bias0): LearnableBias()\n",
      "            (pr_prelu): PReLU(num_parameters=64)\n",
      "            (pr_bias1): LearnableBias()\n",
      "          )\n",
      "        )\n",
      "      )\n",
      "    )\n",
      "    (8): BinaryBlock(\n",
      "      (body): Sequential(\n",
      "        (0): BinaryConv2d(\n",
      "          (move0): LearnableBias()\n",
      "          (binary_activation): BinaryActivation()\n",
      "          (binary_conv): HardBinaryConv(64, 64, kernel_size=(3, 3), stride=(1, 1), padding=(1, 1), bias=False)\n",
      "          (relu): RPReLU(\n",
      "            (pr_bias0): LearnableBias()\n",
      "            (pr_prelu): PReLU(num_parameters=64)\n",
      "            (pr_bias1): LearnableBias()\n",
      "          )\n",
      "        )\n",
      "        (1): BinaryConv2d(\n",
      "          (move0): LearnableBias()\n",
      "          (binary_activation): BinaryActivation()\n",
      "          (binary_conv): HardBinaryConv(64, 64, kernel_size=(3, 3), stride=(1, 1), padding=(1, 1), bias=False)\n",
      "          (relu): RPReLU(\n",
      "            (pr_bias0): LearnableBias()\n",
      "            (pr_prelu): PReLU(num_parameters=64)\n",
      "            (pr_bias1): LearnableBias()\n",
      "          )\n",
      "        )\n",
      "      )\n",
      "    )\n",
      "    (9): BinaryBlock(\n",
      "      (body): Sequential(\n",
      "        (0): BinaryConv2d(\n",
      "          (move0): LearnableBias()\n",
      "          (binary_activation): BinaryActivation()\n",
      "          (binary_conv): HardBinaryConv(64, 64, kernel_size=(3, 3), stride=(1, 1), padding=(1, 1), bias=False)\n",
      "          (relu): RPReLU(\n",
      "            (pr_bias0): LearnableBias()\n",
      "            (pr_prelu): PReLU(num_parameters=64)\n",
      "            (pr_bias1): LearnableBias()\n",
      "          )\n",
      "        )\n",
      "        (1): BinaryConv2d(\n",
      "          (move0): LearnableBias()\n",
      "          (binary_activation): BinaryActivation()\n",
      "          (binary_conv): HardBinaryConv(64, 64, kernel_size=(3, 3), stride=(1, 1), padding=(1, 1), bias=False)\n",
      "          (relu): RPReLU(\n",
      "            (pr_bias0): LearnableBias()\n",
      "            (pr_prelu): PReLU(num_parameters=64)\n",
      "            (pr_bias1): LearnableBias()\n",
      "          )\n",
      "        )\n",
      "      )\n",
      "    )\n",
      "    (10): BinaryBlock(\n",
      "      (body): Sequential(\n",
      "        (0): BinaryConv2d(\n",
      "          (move0): LearnableBias()\n",
      "          (binary_activation): BinaryActivation()\n",
      "          (binary_conv): HardBinaryConv(64, 64, kernel_size=(3, 3), stride=(1, 1), padding=(1, 1), bias=False)\n",
      "          (relu): RPReLU(\n",
      "            (pr_bias0): LearnableBias()\n",
      "            (pr_prelu): PReLU(num_parameters=64)\n",
      "            (pr_bias1): LearnableBias()\n",
      "          )\n",
      "        )\n",
      "        (1): BinaryConv2d(\n",
      "          (move0): LearnableBias()\n",
      "          (binary_activation): BinaryActivation()\n",
      "          (binary_conv): HardBinaryConv(64, 64, kernel_size=(3, 3), stride=(1, 1), padding=(1, 1), bias=False)\n",
      "          (relu): RPReLU(\n",
      "            (pr_bias0): LearnableBias()\n",
      "            (pr_prelu): PReLU(num_parameters=64)\n",
      "            (pr_bias1): LearnableBias()\n",
      "          )\n",
      "        )\n",
      "      )\n",
      "    )\n",
      "    (11): BinaryBlock(\n",
      "      (body): Sequential(\n",
      "        (0): BinaryConv2d(\n",
      "          (move0): LearnableBias()\n",
      "          (binary_activation): BinaryActivation()\n",
      "          (binary_conv): HardBinaryConv(64, 64, kernel_size=(3, 3), stride=(1, 1), padding=(1, 1), bias=False)\n",
      "          (relu): RPReLU(\n",
      "            (pr_bias0): LearnableBias()\n",
      "            (pr_prelu): PReLU(num_parameters=64)\n",
      "            (pr_bias1): LearnableBias()\n",
      "          )\n",
      "        )\n",
      "        (1): BinaryConv2d(\n",
      "          (move0): LearnableBias()\n",
      "          (binary_activation): BinaryActivation()\n",
      "          (binary_conv): HardBinaryConv(64, 64, kernel_size=(3, 3), stride=(1, 1), padding=(1, 1), bias=False)\n",
      "          (relu): RPReLU(\n",
      "            (pr_bias0): LearnableBias()\n",
      "            (pr_prelu): PReLU(num_parameters=64)\n",
      "            (pr_bias1): LearnableBias()\n",
      "          )\n",
      "        )\n",
      "      )\n",
      "    )\n",
      "    (12): BinaryBlock(\n",
      "      (body): Sequential(\n",
      "        (0): BinaryConv2d(\n",
      "          (move0): LearnableBias()\n",
      "          (binary_activation): BinaryActivation()\n",
      "          (binary_conv): HardBinaryConv(64, 64, kernel_size=(3, 3), stride=(1, 1), padding=(1, 1), bias=False)\n",
      "          (relu): RPReLU(\n",
      "            (pr_bias0): LearnableBias()\n",
      "            (pr_prelu): PReLU(num_parameters=64)\n",
      "            (pr_bias1): LearnableBias()\n",
      "          )\n",
      "        )\n",
      "        (1): BinaryConv2d(\n",
      "          (move0): LearnableBias()\n",
      "          (binary_activation): BinaryActivation()\n",
      "          (binary_conv): HardBinaryConv(64, 64, kernel_size=(3, 3), stride=(1, 1), padding=(1, 1), bias=False)\n",
      "          (relu): RPReLU(\n",
      "            (pr_bias0): LearnableBias()\n",
      "            (pr_prelu): PReLU(num_parameters=64)\n",
      "            (pr_bias1): LearnableBias()\n",
      "          )\n",
      "        )\n",
      "      )\n",
      "    )\n",
      "    (13): BinaryBlock(\n",
      "      (body): Sequential(\n",
      "        (0): BinaryConv2d(\n",
      "          (move0): LearnableBias()\n",
      "          (binary_activation): BinaryActivation()\n",
      "          (binary_conv): HardBinaryConv(64, 64, kernel_size=(3, 3), stride=(1, 1), padding=(1, 1), bias=False)\n",
      "          (relu): RPReLU(\n",
      "            (pr_bias0): LearnableBias()\n",
      "            (pr_prelu): PReLU(num_parameters=64)\n",
      "            (pr_bias1): LearnableBias()\n",
      "          )\n",
      "        )\n",
      "        (1): BinaryConv2d(\n",
      "          (move0): LearnableBias()\n",
      "          (binary_activation): BinaryActivation()\n",
      "          (binary_conv): HardBinaryConv(64, 64, kernel_size=(3, 3), stride=(1, 1), padding=(1, 1), bias=False)\n",
      "          (relu): RPReLU(\n",
      "            (pr_bias0): LearnableBias()\n",
      "            (pr_prelu): PReLU(num_parameters=64)\n",
      "            (pr_bias1): LearnableBias()\n",
      "          )\n",
      "        )\n",
      "      )\n",
      "    )\n",
      "    (14): BinaryBlock(\n",
      "      (body): Sequential(\n",
      "        (0): BinaryConv2d(\n",
      "          (move0): LearnableBias()\n",
      "          (binary_activation): BinaryActivation()\n",
      "          (binary_conv): HardBinaryConv(64, 64, kernel_size=(3, 3), stride=(1, 1), padding=(1, 1), bias=False)\n",
      "          (relu): RPReLU(\n",
      "            (pr_bias0): LearnableBias()\n",
      "            (pr_prelu): PReLU(num_parameters=64)\n",
      "            (pr_bias1): LearnableBias()\n",
      "          )\n",
      "        )\n",
      "        (1): BinaryConv2d(\n",
      "          (move0): LearnableBias()\n",
      "          (binary_activation): BinaryActivation()\n",
      "          (binary_conv): HardBinaryConv(64, 64, kernel_size=(3, 3), stride=(1, 1), padding=(1, 1), bias=False)\n",
      "          (relu): RPReLU(\n",
      "            (pr_bias0): LearnableBias()\n",
      "            (pr_prelu): PReLU(num_parameters=64)\n",
      "            (pr_bias1): LearnableBias()\n",
      "          )\n",
      "        )\n",
      "      )\n",
      "    )\n",
      "    (15): BinaryBlock(\n",
      "      (body): Sequential(\n",
      "        (0): BinaryConv2d(\n",
      "          (move0): LearnableBias()\n",
      "          (binary_activation): BinaryActivation()\n",
      "          (binary_conv): HardBinaryConv(64, 64, kernel_size=(3, 3), stride=(1, 1), padding=(1, 1), bias=False)\n",
      "          (relu): RPReLU(\n",
      "            (pr_bias0): LearnableBias()\n",
      "            (pr_prelu): PReLU(num_parameters=64)\n",
      "            (pr_bias1): LearnableBias()\n",
      "          )\n",
      "        )\n",
      "        (1): BinaryConv2d(\n",
      "          (move0): LearnableBias()\n",
      "          (binary_activation): BinaryActivation()\n",
      "          (binary_conv): HardBinaryConv(64, 64, kernel_size=(3, 3), stride=(1, 1), padding=(1, 1), bias=False)\n",
      "          (relu): RPReLU(\n",
      "            (pr_bias0): LearnableBias()\n",
      "            (pr_prelu): PReLU(num_parameters=64)\n",
      "            (pr_bias1): LearnableBias()\n",
      "          )\n",
      "        )\n",
      "      )\n",
      "    )\n",
      "  )\n",
      "  (upconv): BinaryUpConv2d(\n",
      "    (move0): LearnableBias()\n",
      "    (binary_activation): BinaryActivation()\n",
      "    (binary_conv): HardBinaryConv(64, 256, kernel_size=(3, 3), stride=(1, 1), padding=(1, 1), bias=False)\n",
      "    (relu): RPReLU(\n",
      "      (pr_bias0): LearnableBias()\n",
      "      (pr_prelu): PReLU(num_parameters=256)\n",
      "      (pr_bias1): LearnableBias()\n",
      "    )\n",
      "    (pixel_shuffle): PixelShuffle(upscale_factor=2)\n",
      "  )\n",
      "  (conv_after_body): BinaryConv2d(\n",
      "    (move0): LearnableBias()\n",
      "    (binary_activation): BinaryActivation()\n",
      "    (binary_conv): HardBinaryConv(64, 64, kernel_size=(3, 3), stride=(1, 1), padding=(1, 1), bias=False)\n",
      "    (relu): RPReLU(\n",
      "      (pr_bias0): LearnableBias()\n",
      "      (pr_prelu): PReLU(num_parameters=64)\n",
      "      (pr_bias1): LearnableBias()\n",
      "    )\n",
      "  )\n",
      "  (conv_last): Conv2d(64, 3, kernel_size=(3, 3), stride=(1, 1), padding=(1, 1))\n",
      "  (lrelu): LeakyReLU(negative_slope=0.1, inplace=True)\n",
      ")\n",
      "2023-03-31 15:06:39,884 INFO: Loss [L1Loss] is created.\n",
      "2023-03-31 15:06:39,885 INFO: Model [SRModel] is created.\n"
     ]
    },
    {
     "name": "stdout",
     "output_type": "stream",
     "text": [
      "2023-03-31 15:06:39,939 INFO: Start training from epoch: 0, iter: 0\r\n"
     ]
    }
   ],
   "source": [
    "!python3 train.py -opt ../options/train/train_BinEDSR.yaml"
   ]
  },
  {
   "cell_type": "code",
   "execution_count": null,
   "id": "fc451095",
   "metadata": {},
   "outputs": [],
   "source": [
    "!python3 test.py -opt ../options/test/test_BinEDSR.yaml"
   ]
  },
  {
   "cell_type": "markdown",
   "id": "035aa507",
   "metadata": {},
   "source": [
    "### SE-attention on binary branch"
   ]
  },
  {
   "cell_type": "code",
   "execution_count": null,
   "id": "2876a4c8",
   "metadata": {},
   "outputs": [],
   "source": [
    "!python3 train.py -opt ../options/train/train_BinEDSR_none_se.yaml"
   ]
  },
  {
   "cell_type": "code",
   "execution_count": null,
   "id": "e92e2364",
   "metadata": {},
   "outputs": [],
   "source": [
    "!python3 test.py -opt ../options/test/test_BinEDSR_none_se.yaml"
   ]
  },
  {
   "cell_type": "markdown",
   "id": "17652c70",
   "metadata": {},
   "source": [
    "### Spatial attention on binary branch"
   ]
  },
  {
   "cell_type": "code",
   "execution_count": null,
   "id": "240e005e",
   "metadata": {},
   "outputs": [],
   "source": [
    "!python3 train.py -opt ../options/train/train_BinEDSR_none_spat.yaml"
   ]
  },
  {
   "cell_type": "code",
   "execution_count": null,
   "id": "5fc2fd49",
   "metadata": {},
   "outputs": [],
   "source": [
    "!python3 test.py -opt ../options/test/test_BinEDSR_none_spat.yaml"
   ]
  },
  {
   "cell_type": "markdown",
   "id": "30fa3dae",
   "metadata": {},
   "source": [
    "### Pixel attention on binary branch"
   ]
  },
  {
   "cell_type": "code",
   "execution_count": null,
   "id": "ac77142c",
   "metadata": {},
   "outputs": [],
   "source": [
    "!python3 train.py -opt ../options/train/train_BinEDSR_none_pixel.yaml"
   ]
  },
  {
   "cell_type": "code",
   "execution_count": null,
   "id": "0c185a70",
   "metadata": {},
   "outputs": [],
   "source": [
    "!python3 test.py -opt ../options/test/test_BinEDSR_none_pixel.yaml"
   ]
  },
  {
   "cell_type": "markdown",
   "id": "513655f9",
   "metadata": {},
   "source": [
    "### SE-attention on residual branch"
   ]
  },
  {
   "cell_type": "code",
   "execution_count": null,
   "id": "afd53549",
   "metadata": {},
   "outputs": [],
   "source": [
    "!python3 train.py -opt ../options/train/train_BinEDSR_se_none.yaml"
   ]
  },
  {
   "cell_type": "code",
   "execution_count": null,
   "id": "7243ccd7",
   "metadata": {},
   "outputs": [],
   "source": [
    "!python3 test.py -opt ../options/test/test_BinEDSR_se_none.yaml"
   ]
  },
  {
   "cell_type": "markdown",
   "id": "0fdfc57e",
   "metadata": {},
   "source": [
    "### Spatial attention on residual branch"
   ]
  },
  {
   "cell_type": "code",
   "execution_count": null,
   "id": "9bd14a60",
   "metadata": {},
   "outputs": [],
   "source": [
    "!python3 train.py -opt ../options/train/train_BinEDSR_spat_none.yaml"
   ]
  },
  {
   "cell_type": "code",
   "execution_count": null,
   "id": "c80706cc",
   "metadata": {},
   "outputs": [],
   "source": [
    "!python3 test.py -opt ../options/test/test_BinEDSR_spat_none.yaml"
   ]
  },
  {
   "cell_type": "markdown",
   "id": "ceb9ea33",
   "metadata": {},
   "source": [
    "### Pixel attention on residual branch"
   ]
  },
  {
   "cell_type": "code",
   "execution_count": null,
   "id": "ab7b7abc",
   "metadata": {},
   "outputs": [],
   "source": [
    "!python3 train.py -opt ../options/train/train_BinEDSR_pixel_none.yaml"
   ]
  },
  {
   "cell_type": "code",
   "execution_count": null,
   "id": "9fe3d3a2",
   "metadata": {},
   "outputs": [],
   "source": [
    "!python3 test.py -opt ../options/test/test_BinEDSR_pixel_none.yaml"
   ]
  },
  {
   "cell_type": "markdown",
   "id": "78baa114",
   "metadata": {},
   "source": [
    "### SE-attention on both branches"
   ]
  },
  {
   "cell_type": "code",
   "execution_count": null,
   "id": "201d7ec2",
   "metadata": {},
   "outputs": [],
   "source": [
    "!python3 train.py -opt ../options/train/train_BinEDSR_se_se.yaml"
   ]
  },
  {
   "cell_type": "code",
   "execution_count": null,
   "id": "5ce86ae1",
   "metadata": {},
   "outputs": [],
   "source": [
    "!python3 test.py -opt ../options/test/test_BinEDSR_se_se.yaml"
   ]
  },
  {
   "cell_type": "markdown",
   "id": "7c610cc2",
   "metadata": {},
   "source": [
    "### SE-attention on residual branch, spatial attention on binary branch"
   ]
  },
  {
   "cell_type": "code",
   "execution_count": null,
   "id": "0117728c",
   "metadata": {},
   "outputs": [],
   "source": [
    "!python3 train.py -opt ../options/train/train_BinEDSR_se_spat.yaml"
   ]
  },
  {
   "cell_type": "code",
   "execution_count": null,
   "id": "7088b8a0",
   "metadata": {},
   "outputs": [],
   "source": [
    "!python3 test.py -opt ../options/test/test_BinEDSR_se_spat.yaml"
   ]
  },
  {
   "cell_type": "markdown",
   "id": "23a529b2",
   "metadata": {},
   "source": [
    "### SE-attention on residual branch, pixel attention on binary branch"
   ]
  },
  {
   "cell_type": "code",
   "execution_count": null,
   "id": "fbb6b2f2",
   "metadata": {},
   "outputs": [],
   "source": [
    "!python3 train.py -opt ../options/train/train_BinEDSR_se_pixel.yaml"
   ]
  },
  {
   "cell_type": "code",
   "execution_count": null,
   "id": "5d15d8c3",
   "metadata": {},
   "outputs": [],
   "source": [
    "!python3 test.py -opt ../options/test/test_BinEDSR_se_pixel.yaml"
   ]
  },
  {
   "cell_type": "code",
   "execution_count": null,
   "id": "4a54e917",
   "metadata": {},
   "outputs": [],
   "source": []
  }
 ],
 "metadata": {
  "kernelspec": {
   "display_name": "Python 3 (ipykernel)",
   "language": "python",
   "name": "python3"
  },
  "language_info": {
   "codemirror_mode": {
    "name": "ipython",
    "version": 3
   },
   "file_extension": ".py",
   "mimetype": "text/x-python",
   "name": "python",
   "nbconvert_exporter": "python",
   "pygments_lexer": "ipython3",
   "version": "3.8.10"
  }
 },
 "nbformat": 4,
 "nbformat_minor": 5
}
